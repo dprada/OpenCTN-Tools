{
 "cells": [
  {
   "cell_type": "markdown",
   "id": "b4a25f9f-6e5b-4be7-b0ec-410c39b9c4ea",
   "metadata": {},
   "source": [
    "# Getting the dihedral angles"
   ]
  },
  {
   "cell_type": "code",
   "execution_count": 1,
   "id": "9c00b5f7-8c15-4e8e-ada5-8c0f9cf07c71",
   "metadata": {},
   "outputs": [
    {
     "data": {
      "application/vnd.jupyter.widget-view+json": {
       "model_id": "1b699ed2d9744e05b204728f515291ae",
       "version_major": 2,
       "version_minor": 0
      },
      "text/plain": []
     },
     "metadata": {},
     "output_type": "display_data"
    }
   ],
   "source": [
    "import molsysmt as msm\n",
    "import pyunitwizard as puw\n",
    "import numpy as np"
   ]
  },
  {
   "cell_type": "markdown",
   "id": "6bbd51ff-5848-452e-bfaf-2af5f21fbbdc",
   "metadata": {},
   "source": [
    "Let's load both trajectories as the native MolSysMT object `molsysmt.MolSys`:"
   ]
  },
  {
   "cell_type": "code",
   "execution_count": 2,
   "id": "8c77bb51-d509-4f5c-9e88-2dd72d0c1d1f",
   "metadata": {},
   "outputs": [],
   "source": [
    "molecular_system_1 = msm.convert('traj.h5', to_form='molsysmt.MolSys')"
   ]
  },
  {
   "cell_type": "code",
   "execution_count": 3,
   "id": "91440f57-9935-4849-a764-5bfd61f541a0",
   "metadata": {},
   "outputs": [],
   "source": [
    "molecular_system_2 = msm.convert('traj2.h5', to_form='molsysmt.MolSys')"
   ]
  },
  {
   "cell_type": "markdown",
   "id": "43d68491-c220-464f-bec8-01fa32405085",
   "metadata": {},
   "source": [
    "The function `info` can be used to a quick overview of the systems:"
   ]
  },
  {
   "cell_type": "code",
   "execution_count": 5,
   "id": "bc780d83-7892-4ee5-97c3-263ea1318440",
   "metadata": {},
   "outputs": [
    {
     "data": {
      "text/html": [
       "<style type=\"text/css\">\n",
       "</style>\n",
       "<table id=\"T_ff48b\">\n",
       "  <thead>\n",
       "    <tr>\n",
       "      <th id=\"T_ff48b_level0_col0\" class=\"col_heading level0 col0\" >form</th>\n",
       "      <th id=\"T_ff48b_level0_col1\" class=\"col_heading level0 col1\" >n_atoms</th>\n",
       "      <th id=\"T_ff48b_level0_col2\" class=\"col_heading level0 col2\" >n_groups</th>\n",
       "      <th id=\"T_ff48b_level0_col3\" class=\"col_heading level0 col3\" >n_components</th>\n",
       "      <th id=\"T_ff48b_level0_col4\" class=\"col_heading level0 col4\" >n_chains</th>\n",
       "      <th id=\"T_ff48b_level0_col5\" class=\"col_heading level0 col5\" >n_molecules</th>\n",
       "      <th id=\"T_ff48b_level0_col6\" class=\"col_heading level0 col6\" >n_entities</th>\n",
       "      <th id=\"T_ff48b_level0_col7\" class=\"col_heading level0 col7\" >n_peptides</th>\n",
       "      <th id=\"T_ff48b_level0_col8\" class=\"col_heading level0 col8\" >n_structures</th>\n",
       "    </tr>\n",
       "  </thead>\n",
       "  <tbody>\n",
       "    <tr>\n",
       "      <td id=\"T_ff48b_row0_col0\" class=\"data row0 col0\" >molsysmt.MolSys</td>\n",
       "      <td id=\"T_ff48b_row0_col1\" class=\"data row0 col1\" >304</td>\n",
       "      <td id=\"T_ff48b_row0_col2\" class=\"data row0 col2\" >20</td>\n",
       "      <td id=\"T_ff48b_row0_col3\" class=\"data row0 col3\" >1</td>\n",
       "      <td id=\"T_ff48b_row0_col4\" class=\"data row0 col4\" >1</td>\n",
       "      <td id=\"T_ff48b_row0_col5\" class=\"data row0 col5\" >1</td>\n",
       "      <td id=\"T_ff48b_row0_col6\" class=\"data row0 col6\" >1</td>\n",
       "      <td id=\"T_ff48b_row0_col7\" class=\"data row0 col7\" >1</td>\n",
       "      <td id=\"T_ff48b_row0_col8\" class=\"data row0 col8\" >100000</td>\n",
       "    </tr>\n",
       "  </tbody>\n",
       "</table>\n"
      ],
      "text/plain": [
       "<pandas.io.formats.style.Styler at 0x7fc06acd8910>"
      ]
     },
     "execution_count": 5,
     "metadata": {},
     "output_type": "execute_result"
    }
   ],
   "source": [
    "msm.info(molecular_system_1)"
   ]
  },
  {
   "cell_type": "code",
   "execution_count": 6,
   "id": "fdc0ce9f-c688-4616-a658-90f4468c93e5",
   "metadata": {},
   "outputs": [
    {
     "data": {
      "text/html": [
       "<style type=\"text/css\">\n",
       "</style>\n",
       "<table id=\"T_2d5eb\">\n",
       "  <thead>\n",
       "    <tr>\n",
       "      <th id=\"T_2d5eb_level0_col0\" class=\"col_heading level0 col0\" >form</th>\n",
       "      <th id=\"T_2d5eb_level0_col1\" class=\"col_heading level0 col1\" >n_atoms</th>\n",
       "      <th id=\"T_2d5eb_level0_col2\" class=\"col_heading level0 col2\" >n_groups</th>\n",
       "      <th id=\"T_2d5eb_level0_col3\" class=\"col_heading level0 col3\" >n_components</th>\n",
       "      <th id=\"T_2d5eb_level0_col4\" class=\"col_heading level0 col4\" >n_chains</th>\n",
       "      <th id=\"T_2d5eb_level0_col5\" class=\"col_heading level0 col5\" >n_molecules</th>\n",
       "      <th id=\"T_2d5eb_level0_col6\" class=\"col_heading level0 col6\" >n_entities</th>\n",
       "      <th id=\"T_2d5eb_level0_col7\" class=\"col_heading level0 col7\" >n_peptides</th>\n",
       "      <th id=\"T_2d5eb_level0_col8\" class=\"col_heading level0 col8\" >n_structures</th>\n",
       "    </tr>\n",
       "  </thead>\n",
       "  <tbody>\n",
       "    <tr>\n",
       "      <td id=\"T_2d5eb_row0_col0\" class=\"data row0 col0\" >molsysmt.MolSys</td>\n",
       "      <td id=\"T_2d5eb_row0_col1\" class=\"data row0 col1\" >304</td>\n",
       "      <td id=\"T_2d5eb_row0_col2\" class=\"data row0 col2\" >20</td>\n",
       "      <td id=\"T_2d5eb_row0_col3\" class=\"data row0 col3\" >1</td>\n",
       "      <td id=\"T_2d5eb_row0_col4\" class=\"data row0 col4\" >1</td>\n",
       "      <td id=\"T_2d5eb_row0_col5\" class=\"data row0 col5\" >1</td>\n",
       "      <td id=\"T_2d5eb_row0_col6\" class=\"data row0 col6\" >1</td>\n",
       "      <td id=\"T_2d5eb_row0_col7\" class=\"data row0 col7\" >1</td>\n",
       "      <td id=\"T_2d5eb_row0_col8\" class=\"data row0 col8\" >100000</td>\n",
       "    </tr>\n",
       "  </tbody>\n",
       "</table>\n"
      ],
      "text/plain": [
       "<pandas.io.formats.style.Styler at 0x7fc06b123970>"
      ]
     },
     "execution_count": 6,
     "metadata": {},
     "output_type": "execute_result"
    }
   ],
   "source": [
    "msm.info(molecular_system_2)"
   ]
  },
  {
   "cell_type": "markdown",
   "id": "370d0c75-7881-4ef7-ad67-d7eadcf57ab6",
   "metadata": {},
   "source": [
    "And the function `view` let us visualize the trajectory (thanks to the NGLView python library)."
   ]
  },
  {
   "cell_type": "code",
   "execution_count": 9,
   "id": "92c075dd-dda4-4d33-811b-07260811acc5",
   "metadata": {},
   "outputs": [
    {
     "data": {
      "application/vnd.jupyter.widget-view+json": {
       "model_id": "5b884639f8aa4c16837a4a3bf64f1c38",
       "version_major": 2,
       "version_minor": 0
      },
      "text/plain": [
       "NGLWidget(max_frame=99999)"
      ]
     },
     "metadata": {},
     "output_type": "display_data"
    }
   ],
   "source": [
    "msm.view(molecular_system_1)"
   ]
  },
  {
   "cell_type": "markdown",
   "id": "edd35acf-2f43-4438-ba79-2b36dd1cdf95",
   "metadata": {},
   "source": [
    "Let's now get the dihedral angles:"
   ]
  },
  {
   "cell_type": "code",
   "execution_count": 18,
   "id": "54e3e28b-38c4-483a-a5df-405b5af6c468",
   "metadata": {},
   "outputs": [],
   "source": [
    "phi_1, psi_1 = msm.structure.get_dihedral_angles(molecular_system_1, phi=True, psi=True)"
   ]
  },
  {
   "cell_type": "code",
   "execution_count": 19,
   "id": "8d0fd77c-e59a-4e14-80b5-77e50677702c",
   "metadata": {},
   "outputs": [],
   "source": [
    "phi_2, psi_2 = msm.structure.get_dihedral_angles(molecular_system_2, phi=True, psi=True)"
   ]
  },
  {
   "cell_type": "markdown",
   "id": "60538bf9-1550-45f1-911a-ad389d422b5c",
   "metadata": {},
   "source": [
    "Let's see the shape of the output objects:"
   ]
  },
  {
   "cell_type": "code",
   "execution_count": 20,
   "id": "06fd4abd-e35d-47b0-b7ee-62e5d688e103",
   "metadata": {},
   "outputs": [
    {
     "data": {
      "text/plain": [
       "(100000, 19)"
      ]
     },
     "execution_count": 20,
     "metadata": {},
     "output_type": "execute_result"
    }
   ],
   "source": [
    "phi_1.shape # 100000 frames and 19 phi angles"
   ]
  },
  {
   "cell_type": "markdown",
   "id": "2d0be0af-9a81-45c4-9eb4-5fb4eb9ebe9a",
   "metadata": {},
   "source": [
    "The object is not a numpy array, but a Pint quantity:"
   ]
  },
  {
   "cell_type": "code",
   "execution_count": 21,
   "id": "5fe487fc-1cee-486e-900f-313b9cb38653",
   "metadata": {},
   "outputs": [
    {
     "data": {
      "text/plain": [
       "pint.util.Quantity"
      ]
     },
     "execution_count": 21,
     "metadata": {},
     "output_type": "execute_result"
    }
   ],
   "source": [
    "type(phi_1)"
   ]
  },
  {
   "cell_type": "markdown",
   "id": "7921ddb7-cf58-4500-bbce-e59441ab08e9",
   "metadata": {},
   "source": [
    "The magnitudes have a phisical unit associated -degrees, in this case-."
   ]
  },
  {
   "cell_type": "code",
   "execution_count": 22,
   "id": "b9f2dc87-2149-4810-9556-97d9b0ffba31",
   "metadata": {},
   "outputs": [
    {
     "data": {
      "text/html": [
       "-66.32576204794391 degree"
      ],
      "text/latex": [
       "$-66.32576204794391\\ \\mathrm{degree}$"
      ],
      "text/plain": [
       "-66.32576204794391 <Unit('degree')>"
      ]
     },
     "execution_count": 22,
     "metadata": {},
     "output_type": "execute_result"
    }
   ],
   "source": [
    "phi_1[0,0]"
   ]
  },
  {
   "cell_type": "markdown",
   "id": "ef2553f9-604b-4767-a5dc-c9de1dd32e70",
   "metadata": {},
   "source": [
    "With the help of the library PyUnitWizard we can simply get the values of each quantity. Let's work only with the values... we already now that phi and psi are angles in degrees:"
   ]
  },
  {
   "cell_type": "code",
   "execution_count": 23,
   "id": "d7585ff2-342a-4eb0-892a-4060119880d7",
   "metadata": {},
   "outputs": [],
   "source": [
    "phi_1 = puw.get_value(phi_1)\n",
    "psi_1 = puw.get_value(psi_1)\n",
    "phi_2 = puw.get_value(phi_2)\n",
    "psi_2 = puw.get_value(psi_2)"
   ]
  },
  {
   "cell_type": "code",
   "execution_count": 25,
   "id": "9839846c-dac5-4914-bc94-af003734607c",
   "metadata": {},
   "outputs": [],
   "source": [
    "with open('phi_psi_1.npy', 'bw') as fff:\n",
    "    np.save(fff, phi_1)\n",
    "    np.save(fff, psi_1)"
   ]
  },
  {
   "cell_type": "code",
   "execution_count": 26,
   "id": "46f5c737-e77d-4270-82b7-0b927d03feb2",
   "metadata": {},
   "outputs": [],
   "source": [
    "with open('phi_psi_2.npy', 'bw') as fff:\n",
    "    np.save(fff, phi_2)\n",
    "    np.save(fff, psi_2)"
   ]
  }
 ],
 "metadata": {
  "kernelspec": {
   "display_name": "Python 3 (ipykernel)",
   "language": "python",
   "name": "python3"
  },
  "language_info": {
   "codemirror_mode": {
    "name": "ipython",
    "version": 3
   },
   "file_extension": ".py",
   "mimetype": "text/x-python",
   "name": "python",
   "nbconvert_exporter": "python",
   "pygments_lexer": "ipython3",
   "version": "3.9.15"
  }
 },
 "nbformat": 4,
 "nbformat_minor": 5
}
