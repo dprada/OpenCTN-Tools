{
 "cells": [
  {
   "cell_type": "markdown",
   "id": "cfbbc854-b31f-40c1-970b-dd733e0a4e13",
   "metadata": {},
   "source": [
    "# Conformational Transitions Network"
   ]
  },
  {
   "cell_type": "markdown",
   "id": "6bb1ada0-74aa-4310-ae23-cb7cdd77342d",
   "metadata": {},
   "source": [
    "We have two trajectories of $2x19$ degrees of freedom. Where every degree of freedom is a dihedral angle (periodic and in the range [-180, 180]):"
   ]
  },
  {
   "cell_type": "code",
   "execution_count": 1,
   "id": "ea10cc81-b2c6-484b-bea3-19e55b2a8e74",
   "metadata": {},
   "outputs": [],
   "source": [
    "import numpy as np"
   ]
  },
  {
   "cell_type": "code",
   "execution_count": 2,
   "id": "85a1e01b-ef55-4b47-abd1-48d762c50870",
   "metadata": {},
   "outputs": [],
   "source": [
    "with open('phi_psi_1.npy', 'rb') as fff:\n",
    "    phi_1 = np.load(fff)\n",
    "    psi_1 = np.load(fff)"
   ]
  },
  {
   "cell_type": "code",
   "execution_count": 3,
   "id": "4d5ae224-e56c-4a13-9f99-18403a06173b",
   "metadata": {},
   "outputs": [],
   "source": [
    "with open('phi_psi_2.npy', 'rb') as fff:\n",
    "    phi_2 = np.load(fff)\n",
    "    psi_2 = np.load(fff)"
   ]
  },
  {
   "cell_type": "markdown",
   "id": "40506e16-768f-453d-9caf-bb5dfa15ec85",
   "metadata": {},
   "source": [
    "## 1: Spatial discretization of the trajectories"
   ]
  },
  {
   "cell_type": "markdown",
   "id": "62a98c97-4c19-432e-9650-81f8246763af",
   "metadata": {},
   "source": [
    "Each degree of freedom is a dihedral angle. Let's discretize the periodic 38-dimensional space into bins with size $\\Delta\\phi^{19}\\cdot\\Delta\\psi^{19}$, where $\\Delta\\phi=\\Delta\\psi$. For the sake of simplicity, let's call $\\Delta {ang}$ to the length of our hypercubic bin:"
   ]
  },
  {
   "cell_type": "code",
   "execution_count": 4,
   "id": "b85a68e3-6617-4a32-abe9-347b4a536533",
   "metadata": {},
   "outputs": [],
   "source": [
    "delta_ang = 90.0"
   ]
  },
  {
   "cell_type": "markdown",
   "id": "d65d23cf-7dcb-4c56-9fc3-bf1ee172c15c",
   "metadata": {},
   "source": [
    "And let's label each bin with an integer in order to come up with two discrete trajectories $i(t)$ where $i$ is the bin index."
   ]
  },
  {
   "cell_type": "markdown",
   "id": "11995b44-41c5-4767-8abf-ca52351acd21",
   "metadata": {},
   "source": [
    "**Note**: both trajectories use the same bin indices."
   ]
  },
  {
   "cell_type": "markdown",
   "id": "7fc3a3a9-794b-433f-ac91-ab10ac384535",
   "metadata": {},
   "source": [
    "Finnally, translate the \"continuous multidimensional\" trajectories we got from the MD into \"discrete\" trajectories."
   ]
  }
 ],
 "metadata": {
  "kernelspec": {
   "display_name": "Python 3 (ipykernel)",
   "language": "python",
   "name": "python3"
  },
  "language_info": {
   "codemirror_mode": {
    "name": "ipython",
    "version": 3
   },
   "file_extension": ".py",
   "mimetype": "text/x-python",
   "name": "python",
   "nbconvert_exporter": "python",
   "pygments_lexer": "ipython3",
   "version": "3.9.15"
  }
 },
 "nbformat": 4,
 "nbformat_minor": 5
}
