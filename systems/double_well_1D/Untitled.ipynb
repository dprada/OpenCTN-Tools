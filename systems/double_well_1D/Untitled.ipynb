{
 "cells": [
  {
   "cell_type": "markdown",
   "id": "890b899d-431d-4801-a417-87715a10eee8",
   "metadata": {},
   "source": [
    "# Double Well 3D"
   ]
  },
  {
   "cell_type": "code",
   "execution_count": null,
   "id": "bb50d4b3-aa5b-4f09-932e-a76b04d12a6c",
   "metadata": {},
   "outputs": [],
   "source": [
    "import openmm as mm\n",
    "import openmm.app as app\n",
    "import openmm.unit as unit\n",
    "import numpy as np\n",
    "from tqdm import tqdm\n",
    "import matplotlib.pyplot as plt"
   ]
  },
  {
   "cell_type": "code",
   "execution_count": null,
   "id": "a8610362-0db0-48c7-ab7c-d1156b175949",
   "metadata": {},
   "outputs": [],
   "source": [
    "# System parameters.\n",
    "\n",
    "n_particles = 1\n",
    "mass = 35.453 * unit.amu # mass of Cl atom"
   ]
  },
  {
   "cell_type": "code",
   "execution_count": null,
   "id": "08b57b3b-96b1-44ec-a0c4-6d9337037891",
   "metadata": {},
   "outputs": [],
   "source": [
    "# Simulation parameters.\n",
    "\n",
    "## Thermodynamic state and Langevin Dynamics\n",
    "\n",
    "temperature = 300*unit.kelvin\n",
    "friction = 1.0/unit.picosecond\n",
    "\n",
    "## Times\n",
    "\n",
    "simulation_time = 5.0*unit.nanosecond\n",
    "saving_time = 1.0*unit.picoseconds\n",
    "integration_timestep = 0.01*unit.picoseconds"
   ]
  },
  {
   "cell_type": "code",
   "execution_count": null,
   "id": "8cf6440a-9d94-4f2b-b4b6-6cce0bbca78d",
   "metadata": {},
   "outputs": [],
   "source": [
    "# System\n",
    "\n",
    "system = mm.System()\n",
    "\n",
    "for ii in range(n_particles):\n",
    "    system.addParticle(mass)"
   ]
  },
  {
   "cell_type": "code",
   "execution_count": null,
   "id": "8c5f70bf-fd65-4afc-bf80-9ba43445aaa9",
   "metadata": {},
   "outputs": [],
   "source": [
    "# External potential\n",
    "\n",
    "Eo=3.0 * unit.kilocalories_per_mole\n",
    "a=5.0 * unit.angstroms\n",
    "b=0.0 * unit.kilocalories_per_mole\n",
    "k=1.0 * unit.kilocalories_per_mole/unit.angstrom**2\n",
    "\n",
    "force = mm.CustomExternalForce('A*x^4+B*x^2+C*x + D*(y^2+z^2)')\n",
    "force.addGlobalParameter('A', Eo/(a**4))\n",
    "force.addGlobalParameter('B', -2.0*Eo/(a**2))\n",
    "force.addGlobalParameter('C', -b/a)\n",
    "force.addGlobalParameter('D', k/2.0)\n",
    "\n",
    "for ii in range(n_particles):\n",
    "    force.addParticle(ii, [])\n",
    "_ = system.addForce(force)"
   ]
  },
  {
   "cell_type": "code",
   "execution_count": null,
   "id": "6099f120-a85a-4e88-97bb-bf99f0153834",
   "metadata": {},
   "outputs": [],
   "source": [
    "# Integrator\n",
    "\n",
    "integrator = mm.LangevinIntegrator(temperature, friction, integration_timestep)"
   ]
  },
  {
   "cell_type": "code",
   "execution_count": null,
   "id": "8ed920b7-a533-494d-932f-4a0463923640",
   "metadata": {},
   "outputs": [],
   "source": [
    "# Computing platform\n",
    "\n",
    "platform_name = 'CPU' #'CPU' or 'CUDA'(Nvidia GPU) or 'OPENCL' (GPU not Nvidia)\n",
    "platform = mm.Platform.getPlatformByName(platform_name)"
   ]
  },
  {
   "cell_type": "code",
   "execution_count": null,
   "id": "121fecfa-0299-497c-a0b3-88ea11bee4a2",
   "metadata": {},
   "outputs": [],
   "source": [
    "# Context\n",
    "\n",
    "context = mm.Context(system, integrator, platform)"
   ]
  },
  {
   "cell_type": "code",
   "execution_count": null,
   "id": "2ec3b390-94d6-4230-9cff-e84fa63c5b94",
   "metadata": {},
   "outputs": [],
   "source": [
    "# Initial conditions\n",
    "\n",
    "initial_positions  = np.zeros([n_particles, 3], np.float32) * unit.angstroms\n",
    "initial_velocities = np.zeros([n_particles, 3], np.float32) * unit.angstroms/unit.picoseconds\n",
    "\n",
    "initial_positions[0,0] = a\n",
    "\n",
    "context.setPositions(initial_positions)\n",
    "context.setVelocities(initial_velocities)"
   ]
  },
  {
   "cell_type": "code",
   "execution_count": null,
   "id": "82da1899-f639-42e2-8802-2c007aa680db",
   "metadata": {},
   "outputs": [],
   "source": [
    "# Auxiliary simulation parameters\n",
    "n_steps_per_period = int(saving_time/integration_timestep)\n",
    "n_periods = int(simulation_time/saving_time)"
   ]
  },
  {
   "cell_type": "code",
   "execution_count": null,
   "id": "b4ffcecc-96cb-4f00-86b0-0a1069e7eeb9",
   "metadata": {},
   "outputs": [],
   "source": [
    "# Arrays to store times and positions\n",
    "\n",
    "times = np.zeros([n_periods], np.float32) * unit.picoseconds\n",
    "positions = np.zeros([n_periods, n_particles, 3], np.float32) * unit.angstroms"
   ]
  },
  {
   "cell_type": "code",
   "execution_count": null,
   "id": "78d99a5e-6b21-4d71-adec-96d7aaa148de",
   "metadata": {},
   "outputs": [],
   "source": [
    "# Time and positions for time 0\n",
    "\n",
    "state = context.getState(getPositions=True)\n",
    "times[0] = state.getTime()\n",
    "positions[0] = state.getPositions()"
   ]
  },
  {
   "cell_type": "code",
   "execution_count": null,
   "id": "b8afb0b9-b78b-4cf7-b1a1-a2e8a76d057f",
   "metadata": {},
   "outputs": [],
   "source": [
    "# Loop to run the simulation\n",
    "\n",
    "for ii in tqdm(range(1, n_periods)):\n",
    "    context.getIntegrator().step(n_steps_per_period)\n",
    "    state = context.getState(getPositions=True, getVelocities=True, getEnergy=True)\n",
    "    times[ii] = state.getTime()\n",
    "    positions[ii] = state.getPositions()"
   ]
  },
  {
   "cell_type": "code",
   "execution_count": null,
   "id": "0cb3bbf1-a522-489e-9717-9fe3c838643d",
   "metadata": {},
   "outputs": [],
   "source": [
    "plt.rcParams['figure.figsize'] = 18, 4\n",
    "\n",
    "for ii, axis_label in zip(range(3),['X','Y','Z']):\n",
    "    plt.plot(times, positions[:,0,ii])\n",
    "    plt.ylabel('{} ({})'.format(axis_label, positions.unit))\n",
    "    plt.xlabel('time ({})'.format(times.unit))\n",
    "    plt.show()"
   ]
  },
  {
   "cell_type": "code",
   "execution_count": null,
   "id": "3927a275-504b-4e62-b439-19748ac4d813",
   "metadata": {},
   "outputs": [],
   "source": []
  }
 ],
 "metadata": {
  "kernelspec": {
   "display_name": "Python 3 (ipykernel)",
   "language": "python",
   "name": "python3"
  },
  "language_info": {
   "codemirror_mode": {
    "name": "ipython",
    "version": 3
   },
   "file_extension": ".py",
   "mimetype": "text/x-python",
   "name": "python",
   "nbconvert_exporter": "python",
   "pygments_lexer": "ipython3",
   "version": "3.10.4"
  }
 },
 "nbformat": 4,
 "nbformat_minor": 5
}
